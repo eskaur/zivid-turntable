{
 "metadata": {
  "language_info": {
   "codemirror_mode": {
    "name": "ipython",
    "version": 3
   },
   "file_extension": ".py",
   "mimetype": "text/x-python",
   "name": "python",
   "nbconvert_exporter": "python",
   "pygments_lexer": "ipython3",
   "version": "3.7.6-final"
  },
  "orig_nbformat": 2,
  "kernelspec": {
   "name": "python_defaultSpec_1601281657369",
   "display_name": "Python 3.7.6 64-bit"
  }
 },
 "nbformat": 4,
 "nbformat_minor": 2,
 "cells": [
  {
   "cell_type": "code",
   "execution_count": 1,
   "metadata": {},
   "outputs": [],
   "source": [
    "import os\n",
    "import meshlabxml as mlx\n",
    "\n",
    "MESHLABSERVER_PATH = 'C:\\\\Program Files\\\\VCG\\\\MeshLab'\n",
    "os.environ['PATH'] += os.pathsep + MESHLABSERVER_PATH"
   ]
  },
  {
   "cell_type": "code",
   "execution_count": 42,
   "metadata": {
    "tags": []
   },
   "outputs": [
    {
     "output_type": "execute_result",
     "data": {
      "text/plain": "0"
     },
     "metadata": {},
     "execution_count": 42
    }
   ],
   "source": [
    "meshlab_script_1 = './meshlab_files/meshlab_pointcloud_downsampling.mlx'\n",
    "meshlab_script_2 = './meshlab_files/meshlab_mesh_cleanup.mlx'\n",
    "\n",
    "meshlab_log_1 = './meshlab_files/meshlab_pointcloud_downsampling.log'\n",
    "meshlab_log_2 = './meshlab_files/meshlab_mesh_cleanup.log'\n",
    "\n",
    "file_in = './test_data/duck.ply'\n",
    "file_tmp = './data/tmp.ply'\n",
    "file_out = './data/out.ply'\n",
    "\n",
    "\n",
    "file_in_abspath = os.path.join(os.path.dirname(os.path.realpath(file_in)), file_in.split('/')[-1])\n",
    "file_tmp_abspath = os.path.join(os.path.dirname(os.path.realpath(file_tmp)), file_tmp.split('/')[-1])\n",
    "file_out_abspath = os.path.join(os.path.dirname(os.path.realpath(file_out)), file_out.split('/')[-1])\n",
    "\n",
    "mlx.run(file_in=file_in_abspath, file_out=file_tmp_abspath, output_mask='-m fc vc vn', script=meshlab_script_1, log=meshlab_log_1)\n",
    "mlx.run(file_in=file_tmp_abspath, file_out=file_out_abspath, script=meshlab_script_2, log=meshlab_log_2)"
   ]
  },
  {
   "cell_type": "code",
   "execution_count": null,
   "metadata": {},
   "outputs": [],
   "source": []
  }
 ]
}